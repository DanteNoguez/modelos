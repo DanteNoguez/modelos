{
  "nbformat": 4,
  "nbformat_minor": 0,
  "metadata": {
    "colab": {
      "provenance": [],
      "authorship_tag": "ABX9TyNImo/UipBbZTbs3FwVbuh7",
      "include_colab_link": true
    },
    "kernelspec": {
      "name": "python3",
      "display_name": "Python 3"
    },
    "language_info": {
      "name": "python"
    }
  },
  "cells": [
    {
      "cell_type": "markdown",
      "metadata": {
        "id": "view-in-github",
        "colab_type": "text"
      },
      "source": [
        "<a href=\"https://colab.research.google.com/github/DanteNoguez/modelos/blob/main/notebooks/attention.ipynb\" target=\"_parent\"><img src=\"https://colab.research.google.com/assets/colab-badge.svg\" alt=\"Open In Colab\"/></a>"
      ]
    },
    {
      "cell_type": "code",
      "execution_count": 1,
      "metadata": {
        "id": "oWr9KZq3QHYR"
      },
      "outputs": [],
      "source": [
        "import torch\n",
        "from torch import nn\n",
        "import math\n",
        "import torch.nn.functional as F\n",
        "import pandas as pd\n",
        "import numpy as np\n",
        "import matplotlib.pyplot as plt\n",
        "from torch.utils.data import DataLoader\n",
        "import copy"
      ]
    },
    {
      "cell_type": "markdown",
      "source": [
        "The encoder is composed of a stack of $N = 6$ layers."
      ],
      "metadata": {
        "id": "oQERNeMeSQxS"
      }
    },
    {
      "cell_type": "code",
      "source": [
        "def clones(module, N):\n",
        "  \"Produce N identical layers\"\n",
        "  return nn.ModuleList([copy.deepcopy(module) for _ in range(N)])"
      ],
      "metadata": {
        "id": "53IungXjSLSo"
      },
      "execution_count": 2,
      "outputs": []
    },
    {
      "cell_type": "markdown",
      "source": [
        "Each layer has two sub-layers. The first is a multi-head self-attention mechanism, and the second is a simple, position-wise fully connected feed-forward network. We employ a residual connection around each of the two sub-layers, followed by layer normalization. That is, the output of each sub-layer is $LayerNorm(x + Sublayer(x))$, where $Sublayer(x)$ is the function implemented by the sub-layer itself. To facilitate these residual connections, all sub-layers in the model, as well as the embedding layers, produce outputs of dimension $d_{model} = 512.$\n"
      ],
      "metadata": {
        "id": "HSjOC29vUn1B"
      }
    },
    {
      "cell_type": "markdown",
      "source": [
        "La [Layer Normalization](https://arxiv.org/abs/1607.06450) luce así:\n",
        "\n",
        "$\\begin{aligned} L N(\\mathbf{z} ; \\boldsymbol{\\alpha}, \\boldsymbol{\\beta}) &=\\frac{(\\mathbf{z}-\\mu)}{\\sigma} \\odot \\boldsymbol{\\alpha}+\\boldsymbol{\\beta} \\\\ \\mu=\\frac{1}{D} \\sum_{i=1}^D z_i, \\quad \\sigma &=\\sqrt{\\frac{1}{D} \\sum_{i=1}^D\\left(z_i-\\mu\\right)^2} \\end{aligned}$\n",
        "\n",
        "$\\alpha$ = vector con valores 0 (aditivo) \\\\\n",
        "$\\beta$ = vector con valores 1 (multiplicativo) \\\\\n",
        "$\\mu$ = promedio \\\\\n",
        "$\\sigma$ = desviación estándar\n",
        "\n",
        "Lo haremos sin nos vectores alfa y beta:"
      ],
      "metadata": {
        "id": "XynBTKq9Wcrz"
      }
    },
    {
      "cell_type": "code",
      "source": [
        "# Implementación manual de LayerNorm\n",
        "\n",
        "x = torch.arange(0,10,1).float().view(2,5)\n",
        "D = len(x.view(-1))\n",
        "x_flat = x.view(-1)\n",
        "eps = 1e-5\n",
        "\n",
        "mu = 1/D * sum(x_flat)\n",
        "sigma = (1/D * sum((x_flat-mu)**2)).sqrt()\n",
        "std = np.sqrt(np.mean(abs((x.numpy() - x.numpy().mean())**2))) # así lo hace numpy\n",
        "\n",
        "# Implementación del paper:\n",
        "\n",
        "#STD = x.std(-1, keepdim=True)\n",
        "#MEAN = x.mean(-1, keepdim=True)\n",
        "#ALFA = nn.Parameter(torch.ones(2, 5))\n",
        "#BETA = nn.Parameter(torch.zeros(2, 5))\n",
        "#LANO = ALFA * (x - MEAN) / (STD + eps) + BETA\n",
        "\n",
        "LN = ((x_flat - mu)/sigma).view(x.shape)\n",
        "\n",
        "LayerNorma = torch.nn.LayerNorm(x.shape, elementwise_affine=True)\n",
        "torch_layernorm = LayerNorma(x)\n",
        "\n",
        "# Implementación de tinygrad:\n",
        "#y = x - x.mean(axis=-1, keepdim=True)\n",
        "#NLN = y.div((y*y).mean(axis=-1, keepdim=True).add(eps).sqrt())\n",
        "\n",
        "#print(f'yo {sigma}, pytorch {torch.var(x)}, numpy {np.std(x.numpy())}, réplica de numpy {std}')\n",
        "#print(mu, torch.mean(x), np.mean(x.numpy()))\n",
        "#print(LN)\n",
        "#print(torch_layernorm)\n",
        "#print(STD, sigma, torch.std(x))"
      ],
      "metadata": {
        "id": "MDYc7Z6PWfqV"
      },
      "execution_count": 3,
      "outputs": []
    },
    {
      "cell_type": "code",
      "source": [
        "class LayerNorm(nn.Module):\n",
        "  \"Construye una Layer Normalization\"\n",
        "  def __init__(self, features, eps=1e-6):\n",
        "    super().__init__()\n",
        "    self.a_2 = nn.Parameter(torch.ones(features))\n",
        "    self.a_1 = nn.Parameter(torch.zeros(features))\n",
        "    self.eps = eps\n",
        "\n",
        "  def forward(self, x):\n",
        "    mean = x.mean(-1, keepdim=True)\n",
        "    std = x.std(-1, keepdim=True)\n",
        "    return self.a_2 * (x - mean) / (std + self.eps) + self.b_2"
      ],
      "metadata": {
        "id": "voswemVrq6Nl"
      },
      "execution_count": 4,
      "outputs": []
    },
    {
      "cell_type": "markdown",
      "source": [
        "The output of each sub-layer is $LayerNorm(x + Sublayer(x))$, where $Sublayer(x)$ is the function implemented by the sub-layer itself."
      ],
      "metadata": {
        "id": "knM8_Io56Z3K"
      }
    },
    {
      "cell_type": "code",
      "source": [
        "class SublayerConnection(nn.Module):\n",
        "  \"\"\"Una conexión residual seguida de una LayerNorm.\n",
        "  Pondremos la norm primero en lugar de al final\"\"\"\n",
        "  def __init__(self, size, dropout):\n",
        "    super().__init__()\n",
        "    self.norm = LayerNorm(size)\n",
        "    self.dropout = nn.Dropout(dropout)\n",
        "\n",
        "  def forward(self, x, sublayer):\n",
        "    \"Aplicar conexión residual a toda sublayer\"\n",
        "    return x + self.dropout(sublayer(self.norm(x)))"
      ],
      "metadata": {
        "id": "cgooYlWSrxWb"
      },
      "execution_count": 5,
      "outputs": []
    },
    {
      "cell_type": "code",
      "source": [
        "class Encoder(nn.Module):\n",
        "  \"Core encoder is a stack of N = 6 layers.\"\n",
        "  def __init__(self, layer, N):\n",
        "    super().__init__()\n",
        "    self.layers = clones(layer, N)\n",
        "    self.norm = LayerNorm(layer.size)\n",
        "\n",
        "  def forward(self, x, mask):\n",
        "    \"Pass the input and mask through each layer\"\n",
        "    for layer in self.layers:\n",
        "      x = layer(x, mask)\n",
        "    return self.norm(x)"
      ],
      "metadata": {
        "id": "kWSIrNrEUnk6"
      },
      "execution_count": 6,
      "outputs": []
    },
    {
      "cell_type": "markdown",
      "source": [
        "Each layer has two sub-layers. The first is a multi-head self-attention mechanism, and the second is a simple, position-wise fully connected feed-forward network."
      ],
      "metadata": {
        "id": "aR_E-7WiQImO"
      }
    },
    {
      "cell_type": "markdown",
      "source": [
        "**Attention**\n",
        "\n",
        "An attention function can be described as mapping a query and a set of key-value pairs to an output, where the query, keys, values, and output are all vectors. The output is computed as a weighted sum of the values, where the weight assigned to each value is computed by a compatibility function of the query with the corresponding key.\n",
        "\n",
        "We call our particular attention “Scaled Dot-Product Attention”. The input consists of queries and keys of dimension $d_k$, and values of dimension $d_v$. We compute the dot products of the query with all keys, divide each by $\\sqrt{d_k}$, and apply a softmax function to obtain the weights on the values.\n",
        "\n",
        "In practice, we compute the attention function on a set of queries simultaneously, packed together into a matrix $Q$. The keys and values are also packed together into matrices $K$ and $V$. We compute the matrix of outputs as:\n",
        "\n",
        "\\begin{equation}\n",
        "\\operatorname{Attention}(Q, K, V)=\\operatorname{softmax}\\left(\\frac{Q K^T}{\\sqrt{d_k}}\\right) V\n",
        "\\end{equation}"
      ],
      "metadata": {
        "id": "G0YkPH6u3s9u"
      }
    },
    {
      "cell_type": "code",
      "source": [
        "def attention(Q, K, V):\n",
        "  \"Scaled Dot-Product Attention\"\n",
        "  d_k = Q.size(-1) # dimension d_k\n",
        "  scores = torch.matmul(Q, K.transpose(-2, -1)) / math.sqrt(d_k) # compute dot products and divide each by sqroot\n",
        "  p_attn = scores.softmax(dim=-1) # apply softmax\n",
        "  return torch.matmul(p_attn, V), p_attn # final multiplication with V"
      ],
      "metadata": {
        "id": "PjWVQvpN3hZt"
      },
      "execution_count": 7,
      "outputs": []
    },
    {
      "cell_type": "markdown",
      "source": [
        "**Multi-Head Attention**\n",
        "\n",
        "Instead of performind a single attention function with $d_{model}$-dimensional keys, values and queries, we found it beneficial to linearly project the queries, keys and values $h$ times with different, learned linear projections to $d_k$, $d_k$ and $d_v$ dimensions, respectively. On each of these projected versions of queries, keys and values we then perform the attention function in parallel, yielding $d_v$-dimensional output values. These are concatenated and once again projected, resulting in the final values.\n",
        "\n",
        "Multi-head attention allows the model to jointly attend to information from different representation subspaces at different positions. With a single attention head, averaging inhibits this.\n",
        "\n",
        "\\begin{align}\n",
        "\\operatorname{MultiHead}(Q, K, V)=\\operatorname{Concat}\\left(\\operatorname{head}_1, \\ldots\\right., head\\left._{\\mathrm{h}}\\right) W^O \\\\ \n",
        "\\text{where} \\operatorname{head}_i=\\operatorname{Attention}\\left(Q W_i^Q, K W_i^K, V W_i^V\\right)\n",
        "\\end{align}\n",
        "\n",
        "Where the projections are parameter matrices $W_i^Q \\in \\mathbb{R}^{d_{\\text {model }} \\times d_k}, W_i^K \\in \\mathbb{R}^{d_{\\text {model }} \\times d_k}, W_i^V \\in$ $\\mathbb{R}^{d_{\\text {model }} \\times d_v}$ and $W^O \\in \\mathbb{R}^{h d_v \\times d_{\\text {model }}}$\n",
        "\n",
        "In this work we employ $h=8$ parallel attention layers, or heads. For each of these we use $d_k=$ $d_v=d_{\\text {model }} / h=64$. Due to the reduced dimension of each head, the total computational cost is similar to that of single-head attention with full dimensionality."
      ],
      "metadata": {
        "id": "Bu3lHlMi72aJ"
      }
    },
    {
      "cell_type": "markdown",
      "source": [
        "Figure 2:\n",
        "\n",
        "<img src=\"https://miro.medium.com/max/640/1*LpDpZojgoKTPBBt8wdC4nQ.png\" height=400 width=700 alt=\"attention\"/> "
      ],
      "metadata": {
        "id": "qKFVwTWlh8zJ"
      }
    },
    {
      "cell_type": "code",
      "source": [
        "class MultiHeadAttention(nn.Module):\n",
        "  def __init__(self, h, d_model, dropout=0.1):\n",
        "    \"Take in model size and number of heads\"\n",
        "    super().__init__()\n",
        "    assert d_model % h == 0 # d_k = dmodel/h = 64\n",
        "    self.d_k = d_model // h\n",
        "    self.h = h # = 8\n",
        "    self.linears = clones(nn.Linear(d_model, d_model), 4)\n",
        "    self.attn = None\n",
        "    self.dropout = nn.Dropout(p=dropout) # residual dropout, section 5.4\n",
        "\n",
        "  def forward(self, Q, K, V, mask=None):\n",
        "    \"Implements figure 2\"\n",
        "    if mask is not None:\n",
        "      #Same mask applied to all h heads\n",
        "      mask = mask.unsqueeze(1)\n",
        "    nbatches = Q.size(0)\n",
        "\n",
        "    # 1) Do all the linear projections in batch from d_model => h x d_k\n",
        "    Q, K, V = [\n",
        "        lin(x).view(nbatches, -1, self.h, self.d_k).transpose(1, 2)\n",
        "        for lin, x in zip(self.linears, (Q, K, V))]\n",
        "\n",
        "    # 2) Apply attention on all the projected vectors in batch\n",
        "    x, self.attn = attention( Q, K, V, mask=mask, dropout=self.dropout)\n",
        "\n",
        "    # 3) Concat using a view and apply a final linear\n",
        "    x = (x.transpose(1, 2).contiguous().view(nbatches, -1, self.h * self.d_k)) # contiguous tiene que ver con el almacenamiento del tensor en memoria\n",
        "    del Q\n",
        "    del K\n",
        "    del V\n",
        "    return self.linears[-1](x)"
      ],
      "metadata": {
        "id": "kJnWwZ0V7deh"
      },
      "execution_count": 38,
      "outputs": []
    },
    {
      "cell_type": "markdown",
      "source": [
        "**Position-wise Feed-Forward Networks**\n",
        "\n",
        "\n",
        "In addition to attention sub-layers, each of the layers in our encoder and decoder contains a fully connected feed-forward network, which is applied to each position separately and identically. This consists of two linear transformations with a ReLU activation in between.\n",
        "\n",
        "\\begin{equation}\n",
        "\\operatorname{FFN}(x)=\\max \\left(0, x W_1+b_1\\right) W_2+b_2\n",
        "\\end{equation}\n",
        "\n",
        "While the linear transformations are the same across different positions, they use different parameters from layer to layer. Another way of describing this is as two convolutions with kernel size 1. The dimensionality of input and output is $d_{model} = 512$, and the inner-layer has dimensionality $d_{ff} = 2048$."
      ],
      "metadata": {
        "id": "FAmZ0nWL7dKS"
      }
    },
    {
      "cell_type": "code",
      "source": [
        "class PositionwiseFFN(nn.Module):\n",
        "  \"Implements FFN equation\"\n",
        "  def __init__(self, d_model, d_ff, dropout=0.1):\n",
        "    super().__init__()\n",
        "    self.w_1 = nn.Linear(d_model, d_ff)\n",
        "    self.w_2 = nn.Linear(d_ff, d_model)\n",
        "    self.dropout = nn.Dropout(dropout)\n",
        "\n",
        "  def forward(self, x):\n",
        "    return self.w_2(self.dropout(self._1(x).relu()))"
      ],
      "metadata": {
        "id": "Flt9x76tkKGj"
      },
      "execution_count": null,
      "outputs": []
    },
    {
      "cell_type": "markdown",
      "source": [
        "**Embeddings and Softmax**\n",
        "\n",
        "Similarly to other sequence transduction models, we use learned embeddings to convert the input tokens and output tokens to vectors of dimension $d_{model}$. We also use the usual learned linear transformation and softmax function to convert the decoder output to predicted next-token probabilities. In our model, we share the same weight matrix between the two embedding layers and the pre-softmax linear transformation, similar to ([cite](vhttps://arxiv.org/abs/1608.05859)). In the embedding layers, we multiply those weights by $\\sqrt{d_{model}}$."
      ],
      "metadata": {
        "id": "Xkx3RYcGlAxC"
      }
    },
    {
      "cell_type": "code",
      "source": [
        "embedding = nn.Embedding(10, 3, padding_idx=0)\n",
        "input = torch.LongTensor([[0,2,0,5]])\n",
        "embedding(input)"
      ],
      "metadata": {
        "colab": {
          "base_uri": "https://localhost:8080/"
        },
        "id": "_1t4cpvKmuLP",
        "outputId": "7aad8c65-78f1-4294-962f-243598d3afd1"
      },
      "execution_count": 47,
      "outputs": [
        {
          "output_type": "execute_result",
          "data": {
            "text/plain": [
              "tensor([[[ 0.0000,  0.0000,  0.0000],\n",
              "         [-1.7401, -1.5656, -0.3643],\n",
              "         [ 0.0000,  0.0000,  0.0000],\n",
              "         [ 1.5436, -0.6005,  0.8174]]], grad_fn=<EmbeddingBackward0>)"
            ]
          },
          "metadata": {},
          "execution_count": 47
        }
      ]
    },
    {
      "cell_type": "code",
      "source": [
        "class EncoderLayer(nn.Module):\n",
        "  \"Encoder is made up of self-attn and feed forward\"\n",
        "  def __init__(self, size, self_attn, feed_forward, dropout):\n",
        "    super().__init__()\n",
        "    self.self_attn = self_attn\n",
        "    self.feed_forward = feed_forward\n",
        "    self.sublayer = clones(SublayerConnection(size, dropout), 2)\n",
        "    self.size = size\n",
        "\n",
        "  def forward(self, x, mask):\n",
        "    x = self.sublayer[0](x, lambda x: self.sef_attn(x, x, x, mask))\n",
        "    return self.sublayer[1](x, self.feed_forward)"
      ],
      "metadata": {
        "id": "RWQ222IYUSSu"
      },
      "execution_count": null,
      "outputs": []
    },
    {
      "cell_type": "markdown",
      "source": [
        "The decoder is also composed of a stack of $N=6$ identical layers."
      ],
      "metadata": {
        "id": "s-_kDgMT2aW3"
      }
    },
    {
      "cell_type": "code",
      "source": [
        "class Decoder(nn.Module):\n",
        "  \"Generic N layer decoder with masking\"\n",
        "  def __init__(self, layer, N):\n",
        "    super().__init__()\n",
        "    self.layers = clones(layer, N)\n",
        "    self.norm = LayerNorm(layer.size)\n",
        "\n",
        "  def forward(slef, x, memory, src_mask, tgt_mask):\n",
        "    for layer in self.layers:\n",
        "      x = layer(x, memory, src_mask, tgt_mask)\n",
        "    return self.norm(x)"
      ],
      "metadata": {
        "id": "mtssPWTu2Qpz"
      },
      "execution_count": null,
      "outputs": []
    },
    {
      "cell_type": "code",
      "source": [],
      "metadata": {
        "id": "Wv0m4Wn13RZS"
      },
      "execution_count": null,
      "outputs": []
    }
  ]
}