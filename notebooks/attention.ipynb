{
  "nbformat": 4,
  "nbformat_minor": 0,
  "metadata": {
    "colab": {
      "provenance": [],
      "authorship_tag": "ABX9TyNHHQ456zSwyqroqHaNG+1L",
      "include_colab_link": true
    },
    "kernelspec": {
      "name": "python3",
      "display_name": "Python 3"
    },
    "language_info": {
      "name": "python"
    }
  },
  "cells": [
    {
      "cell_type": "markdown",
      "metadata": {
        "id": "view-in-github",
        "colab_type": "text"
      },
      "source": [
        "<a href=\"https://colab.research.google.com/github/DanteNoguez/modelos/blob/main/notebooks/attention.ipynb\" target=\"_parent\"><img src=\"https://colab.research.google.com/assets/colab-badge.svg\" alt=\"Open In Colab\"/></a>"
      ]
    },
    {
      "cell_type": "code",
      "execution_count": null,
      "metadata": {
        "id": "oWr9KZq3QHYR"
      },
      "outputs": [],
      "source": [
        "import torch\n",
        "from torch import nn\n",
        "import math\n",
        "import torch.nn.functional as F\n",
        "import pandas as pd\n",
        "import numpy as np\n",
        "import matplotlib.pyplot as plt\n",
        "from torch.utils.data import DataLoader\n",
        "import copy"
      ]
    },
    {
      "cell_type": "markdown",
      "source": [
        "The encoder is composed of a stack of $N = 6$ layers."
      ],
      "metadata": {
        "id": "oQERNeMeSQxS"
      }
    },
    {
      "cell_type": "code",
      "source": [
        "def clones(module, N):\n",
        "  \"Produce N identical layers\"\n",
        "  return nn.ModuleList([copy.deepcopy(module) for _ in range(N)])"
      ],
      "metadata": {
        "id": "53IungXjSLSo"
      },
      "execution_count": null,
      "outputs": []
    },
    {
      "cell_type": "markdown",
      "source": [
        "Each layer has two sub-layers. The first is a multi-head self-attention mechanism, and the second is a simple, position-wise fully connected feed-forward network. We employ a residual connection around each of the two sub-layers, followed by layer normalization. That is, the output of each sub-layer is $LayerNorm(x + Sublayer(x))$, where $Sublayer(x)$ is the function implemented by the sub-layer itself. To facilitate these residual connections, all sub-layers in the model, as well as the embedding layers, produce outputs of dimension $d_{model} = 512.$\n"
      ],
      "metadata": {
        "id": "HSjOC29vUn1B"
      }
    },
    {
      "cell_type": "markdown",
      "source": [
        "La Layer Normalization luce así:\n",
        "\n",
        "$\\begin{aligned} L N(\\mathbf{z} ; \\boldsymbol{\\alpha}, \\boldsymbol{\\beta}) &=\\frac{(\\mathbf{z}-\\mu)}{\\sigma} \\odot \\boldsymbol{\\alpha}+\\boldsymbol{\\beta} \\\\ \\mu=\\frac{1}{D} \\sum_{i=1}^D z_i, \\quad \\sigma &=\\sqrt{\\frac{1}{D} \\sum_{i=1}^D\\left(z_i-\\mu\\right)^2} \\end{aligned}$\n",
        "\n",
        "$\\alpha$ = vector con valores 0 (aditivo) \\\\\n",
        "$\\beta$ = vector con valores 1 (multiplicativo) \\\\\n",
        "$\\mu$ = promedio \\\\\n",
        "$\\sigma$ = desviación estándar\n",
        "\n",
        "Lo haremos sin nos vectores alfa y beta:"
      ],
      "metadata": {
        "id": "XynBTKq9Wcrz"
      }
    },
    {
      "cell_type": "code",
      "source": [
        "# Implementación manual de LayerNorm\n",
        "\n",
        "x = torch.arange(0,10,1).float().view(2,5)\n",
        "D = len(x.view(-1))\n",
        "x_flat = x.view(-1)\n",
        "eps = 1e-5\n",
        "\n",
        "mu = 1/D * sum(x_flat)\n",
        "sigma = (1/D * sum((x_flat-mu)**2)).sqrt()\n",
        "std = np.sqrt(np.mean(abs((x.numpy() - x.numpy().mean())**2))) # así lo hace numpy\n",
        "\n",
        "# Implementación del paper:\n",
        "\n",
        "#STD = x.std(-1, keepdim=True)\n",
        "#MEAN = x.mean(-1, keepdim=True)\n",
        "#ALFA = nn.Parameter(torch.ones(2, 5))\n",
        "#BETA = nn.Parameter(torch.zeros(2, 5))\n",
        "#LANO = ALFA * (x - MEAN) / (STD + eps) + BETA\n",
        "\n",
        "LN = ((x_flat - mu)/sigma).view(x.shape)\n",
        "\n",
        "LayerNorma = torch.nn.LayerNorm(x.shape, elementwise_affine=True)\n",
        "torch_layernorm = LayerNorma(x)\n",
        "\n",
        "# Implementación de tinygrad:\n",
        "#y = x - x.mean(axis=-1, keepdim=True)\n",
        "#NLN = y.div((y*y).mean(axis=-1, keepdim=True).add(eps).sqrt())\n",
        "\n",
        "#print(f'yo {sigma}, pytorch {torch.var(x)}, numpy {np.std(x.numpy())}, réplica de numpy {std}')\n",
        "#print(mu, torch.mean(x), np.mean(x.numpy()))\n",
        "#print(LN)\n",
        "#print(torch_layernorm)\n",
        "#print(STD, sigma, torch.std(x))"
      ],
      "metadata": {
        "id": "MDYc7Z6PWfqV"
      },
      "execution_count": null,
      "outputs": []
    },
    {
      "cell_type": "code",
      "source": [
        "class LayerNorm(nn.Module):\n",
        "  \"Construye una Layer Normalization\"\n",
        "  def __init__(self, features, eps=1e-6):\n",
        "    super().__init__()\n",
        "    self.a_2 = nn.Parameter(torch.ones(features))\n",
        "    self.a_1 = nn.Parameter(torch.zeros(features))\n",
        "    self.eps = eps\n",
        "\n",
        "  def forward(self, x):\n",
        "    mean = x.mean(-1, keepdim=True)\n",
        "    std = x.std(-1, keepdim=True)\n",
        "    return self.a_2 * (x - mean) / (std + self.eps) + self.b_2"
      ],
      "metadata": {
        "id": "voswemVrq6Nl"
      },
      "execution_count": null,
      "outputs": []
    },
    {
      "cell_type": "markdown",
      "source": [
        "The output of each sub-layer is $LayerNorm(x + Sublayer(x))$, where $Sublayer(x)$ is the function implemented by the sub-layer itself."
      ],
      "metadata": {
        "id": "knM8_Io56Z3K"
      }
    },
    {
      "cell_type": "code",
      "source": [
        "class SublayerConnection(nn.Module):\n",
        "  \"\"\"Una conexión residual seguida de una LayerNorm.\n",
        "  Pondremos la norm primero en lugar de al final\"\"\"\n",
        "  def __init__(self, size, dropout):\n",
        "    super().__init__()\n",
        "    self.norm = LayerNorm(size)\n",
        "    self.dropout = nn.Dropout(dropout)\n",
        "\n",
        "  def forward(self, x, sublayer):\n",
        "    \"Aplicar conexión residual a toda sublayer\"\n",
        "    return x + self.dropout(sublayer(self.norm(x)))"
      ],
      "metadata": {
        "id": "cgooYlWSrxWb"
      },
      "execution_count": null,
      "outputs": []
    },
    {
      "cell_type": "code",
      "source": [
        "class Encoder(nn.Module):\n",
        "  \"Core encoder is a stack of N = 6 layers.\"\n",
        "  def __init__(self, layer, N):\n",
        "    super().__init__()\n",
        "    self.layers = clones(layer, N)\n",
        "    self.norm = LayerNorm(layer.size)\n",
        "\n",
        "  def forward(self, x, mask):\n",
        "    \"Pass the input and mask through each layer\"\n",
        "    for layer in self.layers:\n",
        "      x = layer(x, mask)\n",
        "    return self.norm(x)"
      ],
      "metadata": {
        "id": "kWSIrNrEUnk6"
      },
      "execution_count": null,
      "outputs": []
    },
    {
      "cell_type": "markdown",
      "source": [
        "Each layer has two sub-layers. The first is a multi-head self-attention mechanism, and the second is a simple, position-wise fully connected feed-forward network."
      ],
      "metadata": {
        "id": "aR_E-7WiQImO"
      }
    },
    {
      "cell_type": "code",
      "source": [],
      "metadata": {
        "id": "RWQ222IYUSSu"
      },
      "execution_count": null,
      "outputs": []
    }
  ]
}